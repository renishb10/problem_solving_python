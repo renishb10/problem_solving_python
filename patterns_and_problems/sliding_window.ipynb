{
 "cells": [
  {
   "cell_type": "markdown",
   "id": "a3c08ad4-abd6-4e48-9678-d62c47865556",
   "metadata": {},
   "source": [
    "# Sliding Window Pattern"
   ]
  },
  {
   "cell_type": "markdown",
   "id": "2aef5d1f-4c99-4867-8b16-2d3a22d61049",
   "metadata": {},
   "source": [
    "### Types\n",
    "- Fixed Sliding Window\n",
    "- Variable/Dynamic Sliding Window\n",
    "\n",
    "### Time Complexity\n",
    "- O(n)\n",
    "\n",
    "### Notes\n",
    "- Applied to problems like Sub-String or Sub-Array"
   ]
  },
  {
   "cell_type": "markdown",
   "id": "eba90abf-5c14-4ce6-b62e-19314cba365d",
   "metadata": {},
   "source": [
    "---"
   ]
  },
  {
   "cell_type": "markdown",
   "id": "367ca76a-ab27-49a7-a978-779bc35e3467",
   "metadata": {},
   "source": [
    "## 643. Maximum Average Subarray I\n",
    "You are given an integer array nums consisting of n elements, and an integer k.\n",
    "\n",
    "Find a contiguous subarray whose length is equal to k that has the maximum average value and return this value. Any answer with a calculation error less than 10-5 will be accepted.\n",
    "\n",
    "Example 1:\n",
    "Input: nums = [1,12,-5,-6,50,3], k = 4\n",
    "Output: 12.75000\n",
    "Explanation: Maximum average is (12 - 5 - 6 + 50) / 4 = 51 / 4 = 12.75"
   ]
  },
  {
   "cell_type": "code",
   "execution_count": 22,
   "id": "4d0b99f8-013d-4588-96d3-4fd0e558cefb",
   "metadata": {},
   "outputs": [
    {
     "data": {
      "text/plain": [
       "12.75"
      ]
     },
     "execution_count": 22,
     "metadata": {},
     "output_type": "execute_result"
    }
   ],
   "source": [
    "nums = [1,12,-5, -6, 50, 3]\n",
    "k = 4\n",
    "\n",
    "def findMaxAverage(nums, k) -> float:\n",
    "    if len(nums) < k:\n",
    "        raise ValueError(\"k cannot be larger than the length of nums\")\n",
    "        \n",
    "    # sum of first window of k size\n",
    "    window_sum = max_sum = sum(nums[:k])\n",
    "    \n",
    "    # slide the window\n",
    "    for i in range(k, len(nums)): # You can get the start index by i-k and end index is just i\n",
    "        window_sum = window_sum - nums[i-k] + nums[i]\n",
    "        max_sum = max(max_sum, window_sum)\n",
    "\n",
    "    return max_sum / k\n",
    "\n",
    "findMaxAverage(nums, k)"
   ]
  },
  {
   "cell_type": "markdown",
   "id": "7e3627df-631c-4079-b09e-745994e78ced",
   "metadata": {},
   "source": [
    "## 3. Longest Substring Without Repeating Characters\n",
    "Given a string s, find the length of the longest substring without duplicate characters.\n",
    "\n",
    "Example 1:\n",
    "Input: s = \"abcabcbb\"\n",
    "Output: 3\n",
    "Explanation: The answer is \"abc\", with the length of 3."
   ]
  },
  {
   "cell_type": "code",
   "execution_count": 16,
   "id": "2a88b489-d946-46d4-94bc-c9fdf10bbba9",
   "metadata": {},
   "outputs": [
    {
     "data": {
      "text/plain": [
       "3"
      ]
     },
     "execution_count": 16,
     "metadata": {},
     "output_type": "execute_result"
    }
   ],
   "source": [
    "s = \"abcabcbb\"\n",
    "\n",
    "# Dynamic Sliding Window\n",
    "# And use Hashset\n",
    "def lengthOfLongestSubstring(s: str) -> int:\n",
    "    charSet = set()\n",
    "    l = 0 # left pointer\n",
    "    res = 0 # resulting length\n",
    "    \n",
    "    for r in range(len(s)):\n",
    "        while s[r] in charSet:\n",
    "            charSet.remove(s[l])\n",
    "            l += 1\n",
    "        charSet.add(s[r])\n",
    "        res = max(res, r - l + 1)\n",
    "    return res\n",
    "\n",
    "lengthOfLongestSubstring(s)"
   ]
  },
  {
   "cell_type": "code",
   "execution_count": 18,
   "id": "b00e83e5-f957-4adf-89f0-55a67c8db160",
   "metadata": {},
   "outputs": [
    {
     "name": "stdout",
     "output_type": "stream",
     "text": [
      "0\n",
      "1\n",
      "2\n",
      "3\n"
     ]
    }
   ],
   "source": [
    "for i in range(k):\n",
    "    print(i)"
   ]
  },
  {
   "cell_type": "code",
   "execution_count": null,
   "id": "008f398c-874a-4d7a-a86c-1610efc0c2ec",
   "metadata": {},
   "outputs": [],
   "source": []
  }
 ],
 "metadata": {
  "kernelspec": {
   "display_name": "Python 3 (ipykernel)",
   "language": "python",
   "name": "python3"
  },
  "language_info": {
   "codemirror_mode": {
    "name": "ipython",
    "version": 3
   },
   "file_extension": ".py",
   "mimetype": "text/x-python",
   "name": "python",
   "nbconvert_exporter": "python",
   "pygments_lexer": "ipython3",
   "version": "3.13.5"
  }
 },
 "nbformat": 4,
 "nbformat_minor": 5
}
