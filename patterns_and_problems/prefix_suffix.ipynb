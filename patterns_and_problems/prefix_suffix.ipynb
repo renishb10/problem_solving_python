{
 "cells": [
  {
   "cell_type": "markdown",
   "id": "9e2fa6a2-e6a9-444f-a1a1-a2cda8fd8639",
   "metadata": {},
   "source": [
    "## Prefix-Suffix Pattern"
   ]
  },
  {
   "cell_type": "markdown",
   "id": "c9bc6399-1e53-414a-a884-201b6996e2f3",
   "metadata": {},
   "source": [
    "### 238. Product of Array Except Self\n",
    "Given an integer array nums, return an array answer such that answer[i] is equal to the product of all the elements of nums except nums[i].\n",
    "\n",
    "The product of any prefix or suffix of nums is guaranteed to fit in a 32-bit integer.\n",
    "\n",
    "You must write an algorithm that runs in O(n) time and without using the division operation.\n",
    "\n",
    "Example 1:\n",
    "\n",
    "Input: nums = [1,2,3,4]\n",
    "Output: [24,12,8,6]\n",
    "Example 2:\n",
    "\n",
    "Input: nums = [-1,1,0,-3,3]\n",
    "Output: [0,0,9,0,0]"
   ]
  },
  {
   "cell_type": "code",
   "execution_count": 1,
   "id": "561bd8ce-18dc-4bab-bfc3-909fd67fb923",
   "metadata": {},
   "outputs": [
    {
     "name": "stdout",
     "output_type": "stream",
     "text": [
      "[24, 12, 8, 6]\n",
      "[0, 0, 9, 0, 0]\n"
     ]
    }
   ],
   "source": [
    "# Two Pointer Approach (no division + constant space) (below one)\n",
    "# Division Approach\n",
    "# Brute-force Approach (nested loops)\n",
    "from typing import List\n",
    "\n",
    "def productExceptSelf(nums: List[int]) -> List[int]:\n",
    "    n = len(nums)\n",
    "    if n == 0:\n",
    "        return []\n",
    "\n",
    "    res = [1] * n\n",
    "\n",
    "    pref = 1 # calculate prefix multiplication\n",
    "    for i in range(n):\n",
    "        res[i] = pref # store multiplied prefix to the array (beforehand to get the prefix)                                                                         \n",
    "        pref *= nums[i]\n",
    "\n",
    "    suff = 1 # calculate suffix multiplication\n",
    "    for i in range(n - 1, -1, -1): # reverse loop\n",
    "        res[i] *= suff # pref * suff & inplace update\n",
    "        suff *= nums[i]\n",
    "        \n",
    "    return res\n",
    "\n",
    "print(productExceptSelf([1,2,3,4]))\n",
    "print(productExceptSelf([-1,1,0,-3,3]))"
   ]
  },
  {
   "cell_type": "code",
   "execution_count": null,
   "id": "a7c92caa-6082-4b01-bfba-32c53c2dd9f9",
   "metadata": {},
   "outputs": [],
   "source": []
  }
 ],
 "metadata": {
  "kernelspec": {
   "display_name": "Python 3 (ipykernel)",
   "language": "python",
   "name": "python3"
  },
  "language_info": {
   "codemirror_mode": {
    "name": "ipython",
    "version": 3
   },
   "file_extension": ".py",
   "mimetype": "text/x-python",
   "name": "python",
   "nbconvert_exporter": "python",
   "pygments_lexer": "ipython3",
   "version": "3.13.5"
  }
 },
 "nbformat": 4,
 "nbformat_minor": 5
}
