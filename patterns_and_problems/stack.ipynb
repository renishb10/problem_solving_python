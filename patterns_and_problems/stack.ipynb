{
 "cells": [
  {
   "cell_type": "markdown",
   "id": "7363e50a-c9aa-422f-8309-8dd7f85f5018",
   "metadata": {},
   "source": [
    "## Stack"
   ]
  },
  {
   "cell_type": "markdown",
   "id": "7c0001a8-8577-4370-b16b-293b32d0f1d0",
   "metadata": {},
   "source": [
    "### 20. Valid Parentheses\n",
    "\n",
    "Given a string s containing just the characters '(', ')', '{', '}', '[' and ']', determine if the input string is valid.\n",
    "\n",
    "An input string is valid if:\n",
    "\n",
    "Open brackets must be closed by the same type of brackets.\n",
    "Open brackets must be closed in the correct order.\n",
    "Every close bracket has a corresponding open bracket of the same type.\n",
    " \n",
    "\n",
    "Example 1:\n",
    "\n",
    "Input: s = \"()\"\n",
    "\n",
    "Output: true\n",
    "\n",
    "Example 2:\n",
    "\n",
    "Input: s = \"()[]{}\"\n",
    "\n",
    "Output: true\n",
    "\n",
    "Example 3:\n",
    "\n",
    "Input: s = \"([)]\"\n",
    "\n",
    "Output: false"
   ]
  },
  {
   "cell_type": "code",
   "execution_count": 21,
   "id": "8cae21fb-19cc-4284-afe0-e4dcb1b2d071",
   "metadata": {},
   "outputs": [
    {
     "name": "stdout",
     "output_type": "stream",
     "text": [
      "True\n",
      "True\n",
      "False\n"
     ]
    }
   ],
   "source": [
    "# Using HashMap\n",
    "def validParentheses(s: str) -> bool:\n",
    "    pairs = { \"(\": \")\", \"[\": \"]\", \"{\": \"}\" }\n",
    "    stack = []\n",
    "    \n",
    "    for c in s:\n",
    "        if c in pairs: # if its opening parentheses?\n",
    "            stack.append(pairs[c]) # push the closing one\n",
    "        else:\n",
    "            if not stack or stack[-1] != c: # if its closing parentheses but top item is not the same, then return false\n",
    "                return False\n",
    "            stack.pop()\n",
    "        \n",
    "    return not stack\n",
    "\n",
    "\n",
    "print(validParentheses(\"()\")) # true\n",
    "print(validParentheses(\"()[]{}\")) # true\n",
    "print(validParentheses(\"([)]\")) # false"
   ]
  },
  {
   "cell_type": "code",
   "execution_count": 23,
   "id": "adfd74c0-1379-45c6-b15a-05b020fcb05e",
   "metadata": {},
   "outputs": [
    {
     "name": "stdout",
     "output_type": "stream",
     "text": [
      "True\n",
      "True\n",
      "False\n"
     ]
    }
   ],
   "source": [
    "# Without HashMap (faster)\n",
    "def isValid(s: str) -> bool:\n",
    "    stack = []\n",
    "\n",
    "    for c in s:\n",
    "        if c == \"(\":\n",
    "            stack.append(\")\")\n",
    "        elif c == \"[\":\n",
    "            stack.append(\"]\")\n",
    "        elif c == \"{\":\n",
    "            stack.append(\"}\")\n",
    "        else:\n",
    "            if not stack or stack.pop() != c:\n",
    "                return False\n",
    "            \n",
    "    \n",
    "    return not stack\n",
    "\n",
    "print(isValid(\"()\")) # true\n",
    "print(isValid(\"()[]{}\")) # true\n",
    "print(isValid(\"([)]\")) # false"
   ]
  },
  {
   "cell_type": "markdown",
   "id": "25cdce68-9645-46d2-b1ed-dbe9f507f33c",
   "metadata": {},
   "source": [
    "---"
   ]
  },
  {
   "cell_type": "markdown",
   "id": "afe1f61a-f0e2-4a0e-a849-f8c4d170de9e",
   "metadata": {},
   "source": [
    "### 155. Min Stack\n",
    "Design a stack that supports push, pop, top, and retrieving the minimum element in constant time.\n",
    "\n",
    "Implement the MinStack class:\n",
    "\n",
    "MinStack() initializes the stack object.\n",
    "void push(int val) pushes the element val onto the stack.\n",
    "void pop() removes the element on the top of the stack.\n",
    "int top() gets the top element of the stack.\n",
    "int getMin() retrieves the minimum element in the stack.\n",
    "You must implement a solution with O(1) time complexity for each function.\n",
    "\n",
    " \n",
    "\n",
    "Example 1:\n",
    "\n",
    "Input\n",
    "[\"MinStack\",\"push\",\"push\",\"push\",\"getMin\",\"pop\",\"top\",\"getMin\"]\n",
    "[[],[-2],[0],[-3],[],[],[],[]]\n",
    "\n",
    "Output\n",
    "[null,null,null,null,-3,null,0,-2]\n",
    "\n",
    "Explanation\n",
    "MinStack minStack = new MinStack();\n",
    "minStack.push(-2);\n",
    "minStack.push(0);\n",
    "minStack.push(-3);\n",
    "minStack.getMin(); // return -3\n",
    "minStack.pop();\n",
    "minStack.top();    // return 0\n",
    "minStack.getMin(); // return -2"
   ]
  },
  {
   "cell_type": "code",
   "execution_count": 30,
   "id": "15fb3e3d-7aa4-4b9c-b826-f73122df6b8e",
   "metadata": {},
   "outputs": [
    {
     "data": {
      "text/plain": [
       "-2"
      ]
     },
     "execution_count": 30,
     "metadata": {},
     "output_type": "execute_result"
    }
   ],
   "source": [
    "# Using additional Stack (but we can also store min in the same stack using tuples (val, minVal))\n",
    "class MinStack:\n",
    "\n",
    "    def __init__(self):\n",
    "        self.stack = []\n",
    "        self.minStack = []\n",
    "        \n",
    "\n",
    "    def push(self, val: int) -> None:\n",
    "        self.stack.append(val)\n",
    "        val = min(val, self.minStack[-1] if self.minStack else val)\n",
    "        self.minStack.append(val)\n",
    "\n",
    "    def pop(self) -> None:\n",
    "        self.stack.pop()\n",
    "        self.minStack.pop()\n",
    "\n",
    "    def top(self) -> int:\n",
    "        return self.stack[-1]\n",
    "        \n",
    "\n",
    "    def getMin(self) -> int:\n",
    "        return self.minStack[-1]\n",
    "\n",
    "obj = MinStack()\n",
    "obj.push(-2)\n",
    "obj.push(0)\n",
    "obj.push(-3)\n",
    "obj.getMin()\n",
    "obj.pop()\n",
    "obj.top()\n",
    "obj.getMin()"
   ]
  },
  {
   "cell_type": "markdown",
   "id": "469132dc-7e20-4950-b967-2623a0af8719",
   "metadata": {},
   "source": [
    "---"
   ]
  },
  {
   "cell_type": "markdown",
   "id": "4a2303fb-c403-4cb1-878e-b1c2f73f147c",
   "metadata": {},
   "source": [
    "## 739. Daily Temperatures\n",
    "Given an array of integers temperatures represents the daily temperatures, return an array answer such that answer[i] is the number of days you have to wait after the ith day to get a warmer temperature. If there is no future day for which this is possible, keep answer[i] == 0 instead.\n",
    "\n",
    " \n",
    "\n",
    "Example 1:\n",
    "\n",
    "Input: temperatures = [73,74,75,71,69,72,76,73]\n",
    "Output: [1,1,4,2,1,1,0,0]\n",
    "Example 2:\n",
    "\n",
    "Input: temperatures = [30,40,50,60]\n",
    "Output: [1,1,1,0]\n",
    "Example 3:\n",
    "\n",
    "Input: temperatures = [30,60,90]\n",
    "Output: [1,1,0]"
   ]
  },
  {
   "cell_type": "code",
   "execution_count": 31,
   "id": "ea171887-8c42-47ab-b489-b9b80b712ac7",
   "metadata": {},
   "outputs": [
    {
     "name": "stdout",
     "output_type": "stream",
     "text": [
      "[1, 1, 4, 2, 1, 1, 0, 0]\n",
      "[1, 1, 1, 0]\n",
      "[1, 1, 0]\n"
     ]
    }
   ],
   "source": [
    "## https://www.youtube.com/watch?v=KbxtI6kSLGI\n",
    "## Using Monotonic Stack\n",
    "from typing import List\n",
    "\n",
    "def dailyTemperatures(temps: List[int]) -> List[int]:\n",
    "    n = len(temps)\n",
    "    ans = [0] * n\n",
    "    stack = []  # will store indices with decreasing temperatures\n",
    "\n",
    "    for i, t in enumerate(temps):\n",
    "        # resolve all previous days that are cooler than today\n",
    "        while stack and temps[stack[-1]] < t:\n",
    "            j = stack.pop()\n",
    "            ans[j] = i - j\n",
    "        stack.append(i)\n",
    "\n",
    "    return ans\n",
    "\n",
    "print(dailyTemperatures([73,74,75,71,69,72,76,73]))\n",
    "print(dailyTemperatures([30,40,50,60]))\n",
    "print(dailyTemperatures([30,60,90]))"
   ]
  },
  {
   "cell_type": "code",
   "execution_count": null,
   "id": "af5e936a-0d87-4c73-997c-f66a74c2c671",
   "metadata": {},
   "outputs": [],
   "source": []
  }
 ],
 "metadata": {
  "kernelspec": {
   "display_name": "Python 3 (ipykernel)",
   "language": "python",
   "name": "python3"
  },
  "language_info": {
   "codemirror_mode": {
    "name": "ipython",
    "version": 3
   },
   "file_extension": ".py",
   "mimetype": "text/x-python",
   "name": "python",
   "nbconvert_exporter": "python",
   "pygments_lexer": "ipython3",
   "version": "3.13.5"
  }
 },
 "nbformat": 4,
 "nbformat_minor": 5
}
