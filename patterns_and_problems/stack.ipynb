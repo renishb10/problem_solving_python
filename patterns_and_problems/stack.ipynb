{
 "cells": [
  {
   "cell_type": "markdown",
   "id": "7363e50a-c9aa-422f-8309-8dd7f85f5018",
   "metadata": {},
   "source": [
    "## Stack"
   ]
  },
  {
   "cell_type": "markdown",
   "id": "7c0001a8-8577-4370-b16b-293b32d0f1d0",
   "metadata": {},
   "source": [
    "### 20. Valid Parentheses\n",
    "\n",
    "Given a string s containing just the characters '(', ')', '{', '}', '[' and ']', determine if the input string is valid.\n",
    "\n",
    "An input string is valid if:\n",
    "\n",
    "Open brackets must be closed by the same type of brackets.\n",
    "Open brackets must be closed in the correct order.\n",
    "Every close bracket has a corresponding open bracket of the same type.\n",
    " \n",
    "\n",
    "Example 1:\n",
    "\n",
    "Input: s = \"()\"\n",
    "\n",
    "Output: true\n",
    "\n",
    "Example 2:\n",
    "\n",
    "Input: s = \"()[]{}\"\n",
    "\n",
    "Output: true\n",
    "\n",
    "Example 3:\n",
    "\n",
    "Input: s = \"([)]\"\n",
    "\n",
    "Output: false"
   ]
  },
  {
   "cell_type": "code",
   "execution_count": 21,
   "id": "8cae21fb-19cc-4284-afe0-e4dcb1b2d071",
   "metadata": {},
   "outputs": [
    {
     "name": "stdout",
     "output_type": "stream",
     "text": [
      "True\n",
      "True\n",
      "False\n"
     ]
    }
   ],
   "source": [
    "# Using HashMap\n",
    "def validParentheses(s: str) -> bool:\n",
    "    pairs = { \"(\": \")\", \"[\": \"]\", \"{\": \"}\" }\n",
    "    stack = []\n",
    "    \n",
    "    for c in s:\n",
    "        if c in pairs: # if its opening parentheses?\n",
    "            stack.append(pairs[c]) # push the closing one\n",
    "        else:\n",
    "            if not stack or stack[-1] != c: # if its closing parentheses but top item is not the same, then return false\n",
    "                return False\n",
    "            stack.pop()\n",
    "        \n",
    "    return not stack\n",
    "\n",
    "\n",
    "print(validParentheses(\"()\")) # true\n",
    "print(validParentheses(\"()[]{}\")) # true\n",
    "print(validParentheses(\"([)]\")) # false"
   ]
  },
  {
   "cell_type": "code",
   "execution_count": 23,
   "id": "adfd74c0-1379-45c6-b15a-05b020fcb05e",
   "metadata": {},
   "outputs": [
    {
     "name": "stdout",
     "output_type": "stream",
     "text": [
      "True\n",
      "True\n",
      "False\n"
     ]
    }
   ],
   "source": [
    "# Without HashMap (faster)\n",
    "def isValid(s: str) -> bool:\n",
    "    stack = []\n",
    "\n",
    "    for c in s:\n",
    "        if c == \"(\":\n",
    "            stack.append(\")\")\n",
    "        elif c == \"[\":\n",
    "            stack.append(\"]\")\n",
    "        elif c == \"{\":\n",
    "            stack.append(\"}\")\n",
    "        else:\n",
    "            if not stack or stack.pop() != c:\n",
    "                return False\n",
    "            \n",
    "    \n",
    "    return not stack\n",
    "\n",
    "print(isValid(\"()\")) # true\n",
    "print(isValid(\"()[]{}\")) # true\n",
    "print(isValid(\"([)]\")) # false"
   ]
  },
  {
   "cell_type": "code",
   "execution_count": null,
   "id": "0fc08969-c69a-44f1-8ab2-98dd8bfe7ba7",
   "metadata": {},
   "outputs": [],
   "source": []
  }
 ],
 "metadata": {
  "kernelspec": {
   "display_name": "Python 3 (ipykernel)",
   "language": "python",
   "name": "python3"
  },
  "language_info": {
   "codemirror_mode": {
    "name": "ipython",
    "version": 3
   },
   "file_extension": ".py",
   "mimetype": "text/x-python",
   "name": "python",
   "nbconvert_exporter": "python",
   "pygments_lexer": "ipython3",
   "version": "3.13.5"
  }
 },
 "nbformat": 4,
 "nbformat_minor": 5
}
