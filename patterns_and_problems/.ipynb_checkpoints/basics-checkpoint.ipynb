{
 "cells": [
  {
   "cell_type": "markdown",
   "id": "7e6e2e96-3947-4d55-bf91-0a17d852428c",
   "metadata": {},
   "source": [
    "# Basics"
   ]
  },
  {
   "cell_type": "markdown",
   "id": "32403c38-e15a-4eb5-ba38-2aed7c897f2a",
   "metadata": {},
   "source": [
    "## Calculate length of Sub Array or Sub String\n",
    "\n",
    "### RightIndex - LeftIndex + 1\n",
    "\n",
    "Eg: [a, b, c, d, e, f], let's say left index is at b (left = 1) and right index is at e (right = 4)\n",
    "        L        R\n",
    "\n",
    "Length is = (Right - Left + 1) i.e (4 - 1 + 1) = 4"
   ]
  },
  {
   "cell_type": "markdown",
   "id": "954b1ff6-7786-4a4e-b5a5-eaad211c8643",
   "metadata": {},
   "source": [
    "---"
   ]
  },
  {
   "cell_type": "markdown",
   "id": "d757d63c-50a1-41d9-9dcb-97a1d89be8ac",
   "metadata": {},
   "source": [
    "## Generate all the Substrings\n",
    "\n",
    "### Two Loops, make sure the inner loop to only run while j + i < len(s)"
   ]
  },
  {
   "cell_type": "code",
   "execution_count": 4,
   "id": "3418ff43-91a0-48d6-9c01-8a797feab364",
   "metadata": {},
   "outputs": [
    {
     "name": "stdout",
     "output_type": "stream",
     "text": [
      "['A', 'AB', 'ABC', 'B', 'BC', 'C']\n"
     ]
    }
   ],
   "source": [
    "def generateSubStr(s: str) -> str:\n",
    "    substrings = []\n",
    "    for i in range(len(s)):\n",
    "        res = \"\"\n",
    "        for j in range(len(s) - i): # Decrease the j, so that it won't go out of the index\n",
    "            res += s[j + i]\n",
    "            substrings.append(res)\n",
    "    return substrings\n",
    "\n",
    "print(generateSubStr(\"ABC\"))"
   ]
  },
  {
   "cell_type": "markdown",
   "id": "b14c6e5f-ff35-4b9c-87de-b92977d92225",
   "metadata": {},
   "source": [
    "---"
   ]
  },
  {
   "cell_type": "markdown",
   "id": "f410558e-71c7-428f-a937-915eed272a26",
   "metadata": {},
   "source": [
    "## Monotonic Stack\n",
    "Its a stack that maintains the order, either increasing or decreasing order. It can be used for finding next/previous smallest or the largest element in a group of elements"
   ]
  },
  {
   "cell_type": "code",
   "execution_count": 5,
   "id": "514869ae-f42b-4ae2-99ee-e8fa87000f0c",
   "metadata": {},
   "outputs": [
    {
     "data": {
      "text/plain": [
       "[5, 10, 10, -1, -1]"
      ]
     },
     "execution_count": 5,
     "metadata": {},
     "output_type": "execute_result"
    }
   ],
   "source": [
    "def next_greater_elements(arr):\n",
    "    result = [-1] * len(arr)  # Initialize result with -1s\n",
    "    stack = []  # Will store indices of the elements\n",
    "\n",
    "    for i in range(len(arr)):\n",
    "        # While stack is not empty and current element is greater than element at top index\n",
    "        while stack and arr[i] > arr[stack[-1]]:\n",
    "            index = stack.pop()\n",
    "            result[index] = arr[i]\n",
    "        stack.append(i)  # Push current index to stack\n",
    "\n",
    "    return result\n",
    "next_greater_elements([4, 5, 2, 10, 8])"
   ]
  },
  {
   "cell_type": "markdown",
   "id": "0cab974c-a2dc-4773-b551-7e8c0c65ac19",
   "metadata": {},
   "source": [
    "---"
   ]
  },
  {
   "cell_type": "markdown",
   "id": "546fed39-6a82-48b3-8a70-3e700149c3dd",
   "metadata": {},
   "source": [
    "## DEQUE (Double Ended Queue)\n",
    "A Queue that allows insertion and removal from both ends"
   ]
  },
  {
   "cell_type": "code",
   "execution_count": 6,
   "id": "460d6346-aa8f-4760-b837-e14c93856964",
   "metadata": {},
   "outputs": [
    {
     "name": "stdout",
     "output_type": "stream",
     "text": [
      "Front: 10\n",
      "Rear: 10\n"
     ]
    }
   ],
   "source": [
    "from collections import deque\n",
    "\n",
    "dq = deque()\n",
    "\n",
    "# Add to the right\n",
    "dq.append(10)\n",
    "dq.append(20)\n",
    "\n",
    "# Add to the left\n",
    "dq.appendleft(5)\n",
    "\n",
    "# Remove from the right\n",
    "dq.pop()\n",
    "\n",
    "# Remove from the left\n",
    "dq.popleft()\n",
    "\n",
    "# Peek at ends\n",
    "print(\"Front:\", dq[0])\n",
    "print(\"Rear:\", dq[-1])"
   ]
  },
  {
   "cell_type": "code",
   "execution_count": null,
   "id": "1837e5ef-6847-4f0d-94cd-5d551544d064",
   "metadata": {},
   "outputs": [],
   "source": []
  }
 ],
 "metadata": {
  "kernelspec": {
   "display_name": "Python 3 (ipykernel)",
   "language": "python",
   "name": "python3"
  },
  "language_info": {
   "codemirror_mode": {
    "name": "ipython",
    "version": 3
   },
   "file_extension": ".py",
   "mimetype": "text/x-python",
   "name": "python",
   "nbconvert_exporter": "python",
   "pygments_lexer": "ipython3",
   "version": "3.13.5"
  }
 },
 "nbformat": 4,
 "nbformat_minor": 5
}
