{
 "cells": [
  {
   "cell_type": "code",
   "execution_count": 18,
   "id": "9908856f-5307-49fa-aaf9-fa34fc04b6f9",
   "metadata": {},
   "outputs": [
    {
     "data": {
      "text/plain": [
       "12.75"
      ]
     },
     "execution_count": 18,
     "metadata": {},
     "output_type": "execute_result"
    }
   ],
   "source": [
    "nums = [1,12,-5,-6,50,3]\n",
    "k = 4\n",
    "\n",
    "def maxAverage(nums, k):\n",
    "    if k > len(nums):\n",
    "        raise ValueError(\"k should be less than nums length\")\n",
    "        \n",
    "    max_sum = sum(nums[:k])\n",
    "    window_sum = max_sum\n",
    "\n",
    "    for i in range(k, len(nums)):\n",
    "        window_sum = window_sum + nums[i] - nums[i - k]\n",
    "        max_sum = max(window_sum, max_sum)\n",
    "    return max_sum / k\n",
    "\n",
    "maxAverage(nums, k)"
   ]
  },
  {
   "cell_type": "code",
   "execution_count": null,
   "id": "9c5dae9a-ca50-42a5-b4a2-201ec0c3da8d",
   "metadata": {},
   "outputs": [],
   "source": []
  }
 ],
 "metadata": {
  "kernelspec": {
   "display_name": "Python 3 (ipykernel)",
   "language": "python",
   "name": "python3"
  },
  "language_info": {
   "codemirror_mode": {
    "name": "ipython",
    "version": 3
   },
   "file_extension": ".py",
   "mimetype": "text/x-python",
   "name": "python",
   "nbconvert_exporter": "python",
   "pygments_lexer": "ipython3",
   "version": "3.13.5"
  }
 },
 "nbformat": 4,
 "nbformat_minor": 5
}
