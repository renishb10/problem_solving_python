{
 "cells": [
  {
   "cell_type": "code",
   "execution_count": 18,
   "id": "9908856f-5307-49fa-aaf9-fa34fc04b6f9",
   "metadata": {},
   "outputs": [
    {
     "data": {
      "text/plain": [
       "12.75"
      ]
     },
     "execution_count": 18,
     "metadata": {},
     "output_type": "execute_result"
    }
   ],
   "source": [
    "nums = [1,12,-5,-6,50,3]\n",
    "k = 4\n",
    "\n",
    "def maxAverage(nums, k):\n",
    "    if k > len(nums):\n",
    "        raise ValueError(\"k should be less than nums length\")\n",
    "        \n",
    "    max_sum = sum(nums[:k])\n",
    "    window_sum = max_sum\n",
    "\n",
    "    for i in range(k, len(nums)):\n",
    "        window_sum = window_sum + nums[i] - nums[i - k]\n",
    "        max_sum = max(window_sum, max_sum)\n",
    "    return max_sum / k\n",
    "\n",
    "maxAverage(nums, k)"
   ]
  },
  {
   "cell_type": "code",
   "execution_count": 3,
   "id": "9c5dae9a-ca50-42a5-b4a2-201ec0c3da8d",
   "metadata": {},
   "outputs": [
    {
     "name": "stdout",
     "output_type": "stream",
     "text": [
      "a\n",
      "ab\n",
      "abc\n",
      "b\n",
      "bc\n",
      "c\n"
     ]
    }
   ],
   "source": [
    "str = \"abc\"\n",
    "\n",
    "def generateSubStr(str):\n",
    "    res = []\n",
    "    for l in range(len(str)):\n",
    "        sub = \"\"\n",
    "        for j in range(l, len(str)):\n",
    "            sub += str[j]\n",
    "            res.append(sub)\n",
    "            print(sub)\n",
    "generateSubStr(str)"
   ]
  },
  {
   "cell_type": "code",
   "execution_count": 8,
   "id": "546aa381-68e5-4d03-9906-69c21b32519f",
   "metadata": {},
   "outputs": [
    {
     "name": "stdout",
     "output_type": "stream",
     "text": [
      "deque([10])\n"
     ]
    }
   ],
   "source": [
    "from collections import deque\n",
    "\n",
    "dq = deque()\n",
    "dq.append(10)\n",
    "dq.append(20)\n",
    "dq.appendleft(5)\n",
    "dq.pop()\n",
    "dq.popleft()\n",
    "print(dq)"
   ]
  },
  {
   "cell_type": "code",
   "execution_count": 14,
   "id": "e991c12f-dff5-47f2-8f50-3883f65e820b",
   "metadata": {},
   "outputs": [
    {
     "name": "stdout",
     "output_type": "stream",
     "text": [
      "[0]\n",
      "[1]\n",
      "[1, 2]\n",
      "[3]\n",
      "[3, 4]\n",
      "[3, 4, 5]\n",
      "[4, 9, 9, -1, -1, -1]\n"
     ]
    }
   ],
   "source": [
    "arr1 = [2,4,1,9,5,3]\n",
    "\n",
    "def nextGreater(arr):\n",
    "    result = [-1] * len(arr)\n",
    "    stack = []\n",
    "\n",
    "    for i in range(len(arr)):\n",
    "        while stack and arr[i] > arr[stack[-1]]:\n",
    "            index = stack.pop()\n",
    "            result[index] = arr[i]\n",
    "        stack.append(i) [0 1]\n",
    "        print(stack)\n",
    "\n",
    "    print(result)\n",
    "\n",
    "nextGreater(arr1)"
   ]
  },
  {
   "cell_type": "code",
   "execution_count": 15,
   "id": "82ccfcfa-c3af-499a-af6f-2776339f63c9",
   "metadata": {},
   "outputs": [
    {
     "name": "stdout",
     "output_type": "stream",
     "text": [
      "A\n",
      "D\n",
      "O\n",
      "B\n",
      "E\n",
      "C\n",
      "O\n",
      "D\n",
      "E\n",
      "B\n",
      "A\n",
      "N\n",
      "C\n"
     ]
    }
   ],
   "source": [
    "from collections import Counter, defaultdict\n",
    "def minWindow(s: str, t: str) -> str:\n",
    "    if len(t) > len(s):\n",
    "        return \"\"\n",
    "\n",
    "    \n",
    "\n",
    "minWindow(\"ADOBECODEBANC\", \"ABC\")"
   ]
  },
  {
   "cell_type": "code",
   "execution_count": null,
   "id": "e1062152-9817-4295-b8cb-c7118219dcb9",
   "metadata": {},
   "outputs": [],
   "source": []
  }
 ],
 "metadata": {
  "kernelspec": {
   "display_name": "Python 3 (ipykernel)",
   "language": "python",
   "name": "python3"
  },
  "language_info": {
   "codemirror_mode": {
    "name": "ipython",
    "version": 3
   },
   "file_extension": ".py",
   "mimetype": "text/x-python",
   "name": "python",
   "nbconvert_exporter": "python",
   "pygments_lexer": "ipython3",
   "version": "3.13.5"
  }
 },
 "nbformat": 4,
 "nbformat_minor": 5
}
