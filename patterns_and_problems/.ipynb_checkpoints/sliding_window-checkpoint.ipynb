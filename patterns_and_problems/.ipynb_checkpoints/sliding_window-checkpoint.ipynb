{
 "cells": [
  {
   "cell_type": "markdown",
   "id": "a3c08ad4-abd6-4e48-9678-d62c47865556",
   "metadata": {},
   "source": [
    "# Sliding Window Pattern"
   ]
  },
  {
   "cell_type": "markdown",
   "id": "2aef5d1f-4c99-4867-8b16-2d3a22d61049",
   "metadata": {},
   "source": [
    "### Types\n",
    "- Fixed Sliding Window\n",
    "- Variable/Dynamic Sliding Window\n",
    "\n",
    "### Time Complexity\n",
    "- O(n)\n",
    "\n",
    "### Notes\n",
    "- Applied to problems like Sub-String or Sub-Array"
   ]
  },
  {
   "cell_type": "markdown",
   "id": "eba90abf-5c14-4ce6-b62e-19314cba365d",
   "metadata": {},
   "source": [
    "---"
   ]
  },
  {
   "cell_type": "markdown",
   "id": "367ca76a-ab27-49a7-a978-779bc35e3467",
   "metadata": {},
   "source": [
    "## 643. Maximum Average Subarray I\n",
    "You are given an integer array nums consisting of n elements, and an integer k.\n",
    "\n",
    "Find a contiguous subarray whose length is equal to k that has the maximum average value and return this value. Any answer with a calculation error less than 10-5 will be accepted.\n",
    "\n",
    "Example 1:\n",
    "Input: nums = [1,12,-5,-6,50,3], k = 4\n",
    "Output: 12.75000\n",
    "Explanation: Maximum average is (12 - 5 - 6 + 50) / 4 = 51 / 4 = 12.75"
   ]
  },
  {
   "cell_type": "code",
   "execution_count": 22,
   "id": "4d0b99f8-013d-4588-96d3-4fd0e558cefb",
   "metadata": {},
   "outputs": [
    {
     "data": {
      "text/plain": [
       "12.75"
      ]
     },
     "execution_count": 22,
     "metadata": {},
     "output_type": "execute_result"
    }
   ],
   "source": [
    "nums = [1,12,-5, -6, 50, 3]\n",
    "k = 4\n",
    "\n",
    "def findMaxAverage(nums, k) -> float:\n",
    "    if len(nums) < k:\n",
    "        raise ValueError(\"k cannot be larger than the length of nums\")\n",
    "        \n",
    "    # sum of first window of k size\n",
    "    window_sum = max_sum = sum(nums[:k])\n",
    "    \n",
    "    # slide the window\n",
    "    for i in range(k, len(nums)): # You can get the start index by i-k and end index is just i\n",
    "        window_sum = window_sum - nums[i-k] + nums[i]\n",
    "        max_sum = max(max_sum, window_sum)\n",
    "\n",
    "    return max_sum / k\n",
    "\n",
    "findMaxAverage(nums, k)"
   ]
  },
  {
   "cell_type": "markdown",
   "id": "7e3627df-631c-4079-b09e-745994e78ced",
   "metadata": {},
   "source": [
    "## 3. Longest Substring Without Repeating Characters\n",
    "Given a string s, find the length of the longest substring without duplicate characters.\n",
    "\n",
    "Example 1:\n",
    "Input: s = \"abcabcbb\"\n",
    "Output: 3\n",
    "Explanation: The answer is \"abc\", with the length of 3.\n",
    "\n",
    "### Technique\n",
    "- Use Hashset\n",
    "- or Use ASCII values"
   ]
  },
  {
   "cell_type": "code",
   "execution_count": 2,
   "id": "2a88b489-d946-46d4-94bc-c9fdf10bbba9",
   "metadata": {},
   "outputs": [
    {
     "name": "stdout",
     "output_type": "stream",
     "text": [
      "3\n"
     ]
    }
   ],
   "source": [
    "s = \"abcabcbb\"\n",
    "\n",
    "# Dynamic Sliding Window\n",
    "# And use Hashset\n",
    "def lengthOfLongestSubstring(s: str) -> int:\n",
    "    charSet = set()\n",
    "    l = 0 # left pointer\n",
    "    res = 0 # resulting length\n",
    "    \n",
    "    for r in range(len(s)):\n",
    "        while s[r] in charSet:\n",
    "            charSet.remove(s[l])\n",
    "            l += 1\n",
    "        charSet.add(s[r])\n",
    "        res = max(res, r - l + 1)\n",
    "    return res\n",
    "\n",
    "print(lengthOfLongestSubstring(s))"
   ]
  },
  {
   "cell_type": "markdown",
   "id": "4f224435-1317-4d09-959f-928f4b2614d9",
   "metadata": {},
   "source": [
    "## 76. Minimum Window Substring\n",
    "Given two strings s and t of lengths m and n respectively, return the minimum window substring of s such that every character in t (including duplicates) is included in the window. If there is no such substring, return the empty string \"\".\n",
    "\n",
    "The testcases will be generated such that the answer is unique.\n",
    "\n",
    "\n",
    "Example 1:\n",
    "Input: s = \"ADOBECODEBANC\", t = \"ABC\"\n",
    "Output: \"BANC\"\n",
    "Explanation: The minimum window substring \"BANC\" includes 'A', 'B', and 'C' from string t."
   ]
  },
  {
   "cell_type": "code",
   "execution_count": 13,
   "id": "245a28b9-dd93-498f-8f49-1a550bde44e5",
   "metadata": {},
   "outputs": [
    {
     "name": "stdout",
     "output_type": "stream",
     "text": [
      "defaultdict(<class 'int'>, {'A': 1, 'B': 1, 'C': 1})\n"
     ]
    }
   ],
   "source": [
    "# Two Hashmaps/Dict are needed\n",
    "# One we fill the occurrences of \"t\" string (we use defaultdict)\n",
    "# A variable to hold the \"needed\" length of \"t\" string eg: 3 for \"ABC\" \n",
    "# Good Explanation: https://www.youtube.com/watch?v=jl0q8Xp6O28\n",
    "from collections import defaultdict\n",
    "def minWindow(s: str, t: str) -> str:\n",
    "    # base condition\n",
    "    if len(s) < len(t):\n",
    "        return \"\"\n",
    "\n",
    "    # dictionary to maintain occurences of t\n",
    "    d = defaultdict(int)\n",
    "    for char in t:\n",
    "        d[char] += 1\n",
    "\n",
    "    formed, total = 0, len(d) # formed is temporary flag, total is \"needed\"\n",
    "    l = r = 0 # left and right indices initialized with 0\n",
    "    len_ans = float('inf') # initialize with maximum\n",
    "    subl, subr = 0, 0 # substring left and right\n",
    "\n",
    "    # loop through the \"s\" string\n",
    "    while r < len(s):\n",
    "        char = s[r]\n",
    "        if char in d: # if the char of \"s\" in the dictionary then decrease the counter\n",
    "            \n",
    "        r += 1\n",
    "\n",
    "    print(d)\n",
    "\n",
    "minWindow(\"ADOBECODEBANC\", \"ABC\")"
   ]
  },
  {
   "cell_type": "code",
   "execution_count": null,
   "id": "7dd7d7a4-7e84-424a-aa17-12f41cc05df3",
   "metadata": {},
   "outputs": [],
   "source": []
  }
 ],
 "metadata": {
  "kernelspec": {
   "display_name": "Python 3 (ipykernel)",
   "language": "python",
   "name": "python3"
  },
  "language_info": {
   "codemirror_mode": {
    "name": "ipython",
    "version": 3
   },
   "file_extension": ".py",
   "mimetype": "text/x-python",
   "name": "python",
   "nbconvert_exporter": "python",
   "pygments_lexer": "ipython3",
   "version": "3.13.5"
  }
 },
 "nbformat": 4,
 "nbformat_minor": 5
}
