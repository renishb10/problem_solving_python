{
 "cells": [
  {
   "cell_type": "markdown",
   "id": "a3c08ad4-abd6-4e48-9678-d62c47865556",
   "metadata": {},
   "source": [
    "# Sliding Window Pattern"
   ]
  },
  {
   "cell_type": "markdown",
   "id": "2aef5d1f-4c99-4867-8b16-2d3a22d61049",
   "metadata": {},
   "source": [
    "### Types\n",
    "- Fixed Sliding Window\n",
    "- Variable/Dynamic Sliding Window\n",
    "\n",
    "### Time Complexity\n",
    "- O(n)\n",
    "\n",
    "### Notes\n",
    "- Applied to problems like Sub-String or Sub-Array"
   ]
  },
  {
   "cell_type": "markdown",
   "id": "eba90abf-5c14-4ce6-b62e-19314cba365d",
   "metadata": {},
   "source": [
    "---"
   ]
  },
  {
   "cell_type": "markdown",
   "id": "367ca76a-ab27-49a7-a978-779bc35e3467",
   "metadata": {},
   "source": [
    "## 643. Maximum Average Subarray I\n",
    "You are given an integer array nums consisting of n elements, and an integer k.\n",
    "\n",
    "Find a contiguous subarray whose length is equal to k that has the maximum average value and return this value. Any answer with a calculation error less than 10-5 will be accepted.\n",
    "\n",
    "Example 1:\n",
    "Input: nums = [1,12,-5,-6,50,3], k = 4\n",
    "Output: 12.75000\n",
    "Explanation: Maximum average is (12 - 5 - 6 + 50) / 4 = 51 / 4 = 12.75"
   ]
  },
  {
   "cell_type": "code",
   "execution_count": 22,
   "id": "4d0b99f8-013d-4588-96d3-4fd0e558cefb",
   "metadata": {},
   "outputs": [
    {
     "data": {
      "text/plain": [
       "12.75"
      ]
     },
     "execution_count": 22,
     "metadata": {},
     "output_type": "execute_result"
    }
   ],
   "source": [
    "nums = [1,12,-5, -6, 50, 3]\n",
    "k = 4\n",
    "\n",
    "def findMaxAverage(nums, k) -> float:\n",
    "    if len(nums) < k:\n",
    "        raise ValueError(\"k cannot be larger than the length of nums\")\n",
    "        \n",
    "    # sum of first window of k size\n",
    "    window_sum = max_sum = sum(nums[:k])\n",
    "    \n",
    "    # slide the window\n",
    "    for i in range(k, len(nums)): # You can get the start index by i-k and end index is just i\n",
    "        window_sum = window_sum - nums[i-k] + nums[i]\n",
    "        max_sum = max(max_sum, window_sum)\n",
    "\n",
    "    return max_sum / k\n",
    "\n",
    "findMaxAverage(nums, k)"
   ]
  },
  {
   "cell_type": "markdown",
   "id": "30db11c0-636e-48f9-947f-5f16e7dc6a60",
   "metadata": {},
   "source": [
    "---"
   ]
  },
  {
   "cell_type": "markdown",
   "id": "7e3627df-631c-4079-b09e-745994e78ced",
   "metadata": {},
   "source": [
    "## 3. Longest Substring Without Repeating Characters\n",
    "Given a string s, find the length of the longest substring without duplicate characters.\n",
    "\n",
    "Example 1:\n",
    "Input: s = \"abcabcbb\"\n",
    "Output: 3\n",
    "Explanation: The answer is \"abc\", with the length of 3.\n",
    "\n",
    "### Technique\n",
    "- Use Hashset\n",
    "- or Use ASCII values"
   ]
  },
  {
   "cell_type": "code",
   "execution_count": 2,
   "id": "2a88b489-d946-46d4-94bc-c9fdf10bbba9",
   "metadata": {},
   "outputs": [
    {
     "name": "stdout",
     "output_type": "stream",
     "text": [
      "3\n"
     ]
    }
   ],
   "source": [
    "s = \"abcabcbb\"\n",
    "\n",
    "# Dynamic Sliding Window\n",
    "# And use Hashset\n",
    "def lengthOfLongestSubstring(s: str) -> int:\n",
    "    charSet = set()\n",
    "    l = 0 # left pointer\n",
    "    res = 0 # resulting length\n",
    "    \n",
    "    for r in range(len(s)):\n",
    "        while s[r] in charSet:\n",
    "            charSet.remove(s[l])\n",
    "            l += 1\n",
    "        charSet.add(s[r])\n",
    "        res = max(res, r - l + 1)\n",
    "    return res\n",
    "\n",
    "print(lengthOfLongestSubstring(s))"
   ]
  },
  {
   "cell_type": "markdown",
   "id": "1576f816-d9ab-4efd-9e11-33eb9956f35f",
   "metadata": {},
   "source": [
    "---"
   ]
  },
  {
   "cell_type": "markdown",
   "id": "4f224435-1317-4d09-959f-928f4b2614d9",
   "metadata": {},
   "source": [
    "## 76. Minimum Window Substring\n",
    "Given two strings s and t of lengths m and n respectively, return the minimum window substring of s such that every character in t (including duplicates) is included in the window. If there is no such substring, return the empty string \"\".\n",
    "\n",
    "The testcases will be generated such that the answer is unique.\n",
    "\n",
    "\n",
    "Example 1:\n",
    "Input: s = \"ADOBECODEBANC\", t = \"ABC\"\n",
    "Output: \"BANC\"\n",
    "Explanation: The minimum window substring \"BANC\" includes 'A', 'B', and 'C' from string t."
   ]
  },
  {
   "cell_type": "code",
   "execution_count": 19,
   "id": "3de9664a-3853-407a-b757-617fc6779e95",
   "metadata": {},
   "outputs": [
    {
     "data": {
      "text/plain": [
       "'BANC'"
      ]
     },
     "execution_count": 19,
     "metadata": {},
     "output_type": "execute_result"
    }
   ],
   "source": [
    "from collections import Counter, defaultdict\n",
    "\n",
    "def minWindow(s: str, t: str) -> str:\n",
    "    # Base case: If t is longer than s, no valid window can exist\n",
    "    if not s or not t or len(s) < len(t):\n",
    "        return \"\"\n",
    "\n",
    "    # Step 1: Build the required character frequency map for string t\n",
    "    required_freq = Counter(t)  # e.g., \"ABC\" => {'A':1, 'B':1, 'C':1}\n",
    "\n",
    "    # Step 2: Initialize the sliding window and tracking variables\n",
    "    window_freq = defaultdict(int)  # frequency of characters in current window\n",
    "    left = 0  # left boundary of window\n",
    "    right = 0  # right boundary of window\n",
    "    formed = 0  # how many required characters are currently satisfied\n",
    "    required = len(required_freq)  # total unique characters in t\n",
    "\n",
    "    # To track the best window: (window_length, start_index, end_index)\n",
    "    min_len = float('inf')\n",
    "    min_window = (0, 0)\n",
    "\n",
    "    # Step 3: Start sliding the window\n",
    "    while right < len(s):\n",
    "        char = s[right]\n",
    "        window_freq[char] += 1\n",
    "\n",
    "        # If the current character is required and its count matches the requirement\n",
    "        if char in required_freq and window_freq[char] == required_freq[char]:\n",
    "            formed += 1\n",
    "\n",
    "        # Try to shrink the window from the left if all required characters are matched\n",
    "        while left <= right and formed == required:\n",
    "            window_size = right - left + 1\n",
    "            if window_size < min_len:\n",
    "                min_len = window_size\n",
    "                min_window = (left, right)\n",
    "\n",
    "            # Shrink the window from the left\n",
    "            left_char = s[left]\n",
    "            window_freq[left_char] -= 1\n",
    "\n",
    "            # If removing this char causes us to no longer satisfy a requirement\n",
    "            if left_char in required_freq and window_freq[left_char] < required_freq[left_char]:\n",
    "                formed -= 1\n",
    "\n",
    "            left += 1  # Move the window forward\n",
    "\n",
    "        right += 1  # Expand the window\n",
    "\n",
    "    # Step 4: Return the result\n",
    "    start, end = min_window\n",
    "    return \"\" if min_len == float('inf') else s[start:end + 1]\n",
    "\n",
    "minWindow(\"ADOBECODEBANC\", \"ABC\")"
   ]
  },
  {
   "cell_type": "code",
   "execution_count": 18,
   "id": "245a28b9-dd93-498f-8f49-1a550bde44e5",
   "metadata": {},
   "outputs": [
    {
     "data": {
      "text/plain": [
       "'BANC'"
      ]
     },
     "execution_count": 18,
     "metadata": {},
     "output_type": "execute_result"
    }
   ],
   "source": [
    "# One Hashmaps/Dict is used\n",
    "# We fill the occurrences of \"t\" string (we use defaultdict) and mutate it\n",
    "# A variable to hold the \"needed\" length of \"t\" string eg: 3 for \"ABC\" \n",
    "# Good Explanation: https://www.youtube.com/watch?v=jl0q8Xp6O28\n",
    "from collections import defaultdict\n",
    "def minWindow(s: str, t: str) -> str:\n",
    "    # base condition\n",
    "    if len(s) < len(t):\n",
    "        return \"\"\n",
    "\n",
    "    # dictionary counter to maintain occurences of t\n",
    "    d = defaultdict(int)\n",
    "    for char in t:\n",
    "        d[char] += 1\n",
    "\n",
    "    formed, total = 0, len(d) # formed is temporary flag, total is \"needed\" length of dictionary\n",
    "    l = r = 0 # left and right indices initialized with 0\n",
    "    len_ans = float('inf') # initialize with maximum\n",
    "    subl, subr = 0, 0 # substring left and right\n",
    "\n",
    "    # loop through the \"s\" string\n",
    "    while r < len(s):\n",
    "        char = s[r]\n",
    "        if char in d: # if the char of \"s\" in the dictionary then decrease the counter\n",
    "            d[char] -= 1\n",
    "            if d[char] == 0:\n",
    "                formed += 1\n",
    "        while l <= r and formed == total: # if a valid substring is found, then we move the left pointer\n",
    "            curr_len = r - l + 1 # current length of the found substring\n",
    "            if curr_len < len_ans: # if it is minimum length then update len_ans\n",
    "                len_ans = curr_len\n",
    "                subl, subr = l, r + 1\n",
    "            char = s[l]\n",
    "            if char in d:\n",
    "                if d[char] == 0:\n",
    "                    formed -= 1\n",
    "                d[char] += 1\n",
    "            l += 1\n",
    "        r += 1\n",
    "\n",
    "    return \"\" if len_ans == float('inf') else s[subl:subr]\n",
    "\n",
    "minWindow(\"ADOBECODEBANC\", \"ABC\")"
   ]
  },
  {
   "cell_type": "markdown",
   "id": "29274863-7ee5-458f-8ab6-4699dbe1f526",
   "metadata": {},
   "source": [
    "---"
   ]
  },
  {
   "cell_type": "markdown",
   "id": "641067d7-9a75-4c29-8589-4d18ba368270",
   "metadata": {},
   "source": [
    "## 239. Sliding Window Maximum\n",
    "You are given an array of integers nums, there is a sliding window of size k which is moving from the very left of the array to the very right. You can only see the k numbers in the window. Each time the sliding window moves right by one position.\n",
    "\n",
    "Return the max sliding window.\n",
    "\n",
    "Example 1:\n",
    "\n",
    "Input: nums = [1,3,-1,-3,5,3,6,7], k = 3\n",
    "Output: [3,3,5,5,6,7]\n",
    "Explanation: \n",
    "Window position                Max\n",
    "[1  3  -1] -3  5  3  6  7       3\n",
    " 1 [3  -1  -3] 5  3  6  7       3\n",
    " 1  3 [-1  -3  5] 3  6  7       5\n",
    " 1  3  -1 [-3  5  3] 6  7       5\n",
    " 1  3  -1  -3 [5  3  6] 7       6\n",
    " 1  3  -1  -3  5 [3  6  7]      7\n",
    "Example 2:\n",
    "\n",
    "Input: nums = [1], k = 1\n",
    "Output: [1]\n",
    "\n",
    "### Notes\n",
    "- Naive approach O(n^2)\n",
    "- Better approach use Single Scan with Monotonic Decreasing Deque that maintains indicies"
   ]
  },
  {
   "cell_type": "code",
   "execution_count": 26,
   "id": "2b91a977-e518-4882-80b1-08b4ab8f08f0",
   "metadata": {},
   "outputs": [
    {
     "data": {
      "text/plain": [
       "[3, 3, 5, 5, 6, 7]"
      ]
     },
     "execution_count": 26,
     "metadata": {},
     "output_type": "execute_result"
    }
   ],
   "source": [
    "# Need Deque\n",
    "from typing import List\n",
    "from collections import deque\n",
    "\n",
    "def maxSlidingWindow(nums, k):\n",
    "    dq = deque()  # stores indices\n",
    "    result = []\n",
    "\n",
    "    for i in range(len(nums)):\n",
    "        # Remove from back while current element is greater\n",
    "        while dq and nums[i] >= nums[dq[-1]]:\n",
    "            dq.pop()\n",
    "\n",
    "        dq.append(i)\n",
    "\n",
    "        # Remove from front if it's outside the window\n",
    "        if dq[0] <= i - k:\n",
    "            dq.popleft()\n",
    "\n",
    "        # Add to result once the window is fully formed\n",
    "        if i >= k - 1:\n",
    "            result.append(nums[dq[0]])\n",
    "\n",
    "    return result\n",
    "\n",
    "\n",
    "maxSlidingWindow([1,3,-1,-3,5,3,6,7], 3)"
   ]
  },
  {
   "cell_type": "code",
   "execution_count": null,
   "id": "92a91291-5e35-44a0-b8fc-2dc5df6b162a",
   "metadata": {},
   "outputs": [],
   "source": []
  }
 ],
 "metadata": {
  "kernelspec": {
   "display_name": "Python 3 (ipykernel)",
   "language": "python",
   "name": "python3"
  },
  "language_info": {
   "codemirror_mode": {
    "name": "ipython",
    "version": 3
   },
   "file_extension": ".py",
   "mimetype": "text/x-python",
   "name": "python",
   "nbconvert_exporter": "python",
   "pygments_lexer": "ipython3",
   "version": "3.13.5"
  }
 },
 "nbformat": 4,
 "nbformat_minor": 5
}
