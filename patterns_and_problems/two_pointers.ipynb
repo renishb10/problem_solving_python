{
 "cells": [
  {
   "cell_type": "markdown",
   "id": "90fdda27-dd89-4e47-9c41-c79a9f2e67ed",
   "metadata": {},
   "source": [
    "## Two Pointers"
   ]
  },
  {
   "cell_type": "markdown",
   "id": "db5ddbf6-d6e2-4429-96cd-7be5a8e74738",
   "metadata": {},
   "source": [
    "### 167. Two Sum II - Input Array Is Sorted\n",
    "\n",
    "Given a 1-indexed array of integers numbers that is already sorted in non-decreasing order, find two numbers such that they add up to a specific target number. Let these two numbers be numbers[index1] and numbers[index2] where 1 <= index1 < index2 <= numbers.length.\n",
    "\n",
    "Return the indices of the two numbers, index1 and index2, added by one as an integer array [index1, index2] of length 2.\n",
    "\n",
    "The tests are generated such that there is exactly one solution. You may not use the same element twice.\n",
    "\n",
    "Your solution must use only constant extra space.\n",
    "\n",
    "\n",
    "Example 1:\n",
    "\n",
    "Input: numbers = [2,7,11,15], target = 9\n",
    "Output: [1,2]\n",
    "Explanation: The sum of 2 and 7 is 9. Therefore, index1 = 1, index2 = 2. We return [1, 2].\n",
    "Example 2:\n",
    "\n",
    "Input: numbers = [2,3,4], target = 6\n",
    "Output: [1,3]\n",
    "Explanation: The sum of 2 and 4 is 6. Therefore index1 = 1, index2 = 3. We return [1, 3].\n",
    "Example 3:\n",
    "\n",
    "Input: numbers = [-1,0], target = -1\n",
    "Output: [1,2]\n",
    "Explanation: The sum of -1 and 0 is -1. Therefore index1 = 1, index2 = 2. We return [1, 2]."
   ]
  },
  {
   "cell_type": "code",
   "execution_count": 7,
   "id": "aea12df3-30e2-4cb6-85d6-8e9fcffbb7a5",
   "metadata": {},
   "outputs": [
    {
     "name": "stdout",
     "output_type": "stream",
     "text": [
      "[1, 2]\n",
      "[1, 3]\n",
      "[1, 2]\n"
     ]
    }
   ],
   "source": [
    "from typing import List\n",
    "\n",
    "def twoSum2(nums: List[int], target: int) -> List[int]:\n",
    "    l, r = 0, len(nums) - 1\n",
    "\n",
    "    while l < r:\n",
    "        total = nums[l] + nums[r]\n",
    "        if total == target:\n",
    "            return [l + 1, r + 1]\n",
    "        elif total < target:\n",
    "            l += 1\n",
    "        else:\n",
    "            r -= 1\n",
    "\n",
    "print(twoSum2([2,7,11,15], 9))\n",
    "print(twoSum2([2,3,4], 6))\n",
    "print(twoSum2([-1,0], -1))"
   ]
  },
  {
   "cell_type": "markdown",
   "id": "78a025d4-0f0b-4b8b-a5f6-bdc83ece9c4c",
   "metadata": {},
   "source": [
    "---"
   ]
  },
  {
   "cell_type": "markdown",
   "id": "d5aa4962-5768-4c6f-a264-fa09e18b6685",
   "metadata": {},
   "source": [
    "### 15. 3Sum\n",
    "Given an integer array nums, return all the triplets [nums[i], nums[j], nums[k]] such that i != j, i != k, and j != k, and nums[i] + nums[j] + nums[k] == 0.\n",
    "\n",
    "Notice that the solution set must not contain duplicate triplets.\n",
    "\n",
    " \n",
    "\n",
    "Example 1:\n",
    "\n",
    "Input: nums = [-1,0,1,2,-1,-4]\n",
    "Output: [[-1,-1,2],[-1,0,1]]\n",
    "Explanation: \n",
    "nums[0] + nums[1] + nums[2] = (-1) + 0 + 1 = 0.\n",
    "nums[1] + nums[2] + nums[4] = 0 + 1 + (-1) = 0.\n",
    "nums[0] + nums[3] + nums[4] = (-1) + 2 + (-1) = 0.\n",
    "The distinct triplets are [-1,0,1] and [-1,-1,2].\n",
    "Notice that the order of the output and the order of the triplets does not matter.\n",
    "Example 2:\n",
    "\n",
    "Input: nums = [0,1,1]\n",
    "Output: []\n",
    "Explanation: The only possible triplet does not sum up to 0."
   ]
  },
  {
   "cell_type": "code",
   "execution_count": 11,
   "id": "9741bcdf-a417-4a6d-9a87-30689f4f50c7",
   "metadata": {},
   "outputs": [
    {
     "name": "stdout",
     "output_type": "stream",
     "text": [
      "[[-1, -1, 2], [-1, 0, 1]]\n",
      "[]\n"
     ]
    }
   ],
   "source": [
    "from typing import List\n",
    "\n",
    "def threeSum(nums: List[int]) -> List[List[int]]:\n",
    "    \"\"\"\n",
    "    Given an integer array nums, return all unique triplets [nums[i], nums[j], nums[k]]\n",
    "    such that i != j != k and nums[i] + nums[j] + nums[k] == 0.\n",
    "    \"\"\"\n",
    "    nums.sort()  # Sort first to apply two pointers\n",
    "    res = []\n",
    "    n = len(nums)\n",
    "\n",
    "    for i in range(n):\n",
    "        # Skip duplicate first elements\n",
    "        if i > 0 and nums[i] == nums[i - 1]:\n",
    "            continue\n",
    "        \n",
    "        l, r = i + 1, n - 1\n",
    "        while l < r:\n",
    "            total = nums[i] + nums[l] + nums[r]\n",
    "            if total == 0:\n",
    "                res.append([nums[i], nums[l], nums[r]])\n",
    "                \n",
    "                # Skip duplicate second elements\n",
    "                while l < r and nums[l] == nums[l + 1]:\n",
    "                    l += 1\n",
    "                # Skip duplicate third elements\n",
    "                while l < r and nums[r] == nums[r - 1]:\n",
    "                    r -= 1\n",
    "                \n",
    "                l += 1\n",
    "                r -= 1\n",
    "            elif total < 0:\n",
    "                l += 1\n",
    "            else:\n",
    "                r -= 1\n",
    "\n",
    "    return res\n",
    "\n",
    "\n",
    "print(threeSum([-1,0,1,2,-1,-4]))\n",
    "print(threeSum([0,1,1]))"
   ]
  },
  {
   "cell_type": "markdown",
   "id": "520148cf-fbb1-49f3-9097-5002771e344e",
   "metadata": {},
   "source": [
    "---"
   ]
  },
  {
   "cell_type": "markdown",
   "id": "11d90ef6-446f-453b-8d0f-55e83d4b19d8",
   "metadata": {},
   "source": [
    "### 125. Valid Palindrome\n",
    "A phrase is a palindrome if, after converting all uppercase letters into lowercase letters and removing all non-alphanumeric characters, it reads the same forward and backward. Alphanumeric characters include letters and numbers.\n",
    "\n",
    "Given a string s, return true if it is a palindrome, or false otherwise.\n",
    "\n",
    "\n",
    "Example 1:\n",
    "\n",
    "Input: s = \"A man, a plan, a canal: Panama\"\n",
    "Output: true\n",
    "Explanation: \"amanaplanacanalpanama\" is a palindrome.\n",
    "Example 2:\n",
    "\n",
    "Input: s = \"race a car\"\n",
    "Output: false\n",
    "Explanation: \"raceacar\" is not a palindrome.\n",
    "Example 3:\n",
    "\n",
    "Input: s = \" \"\n",
    "Output: true\n",
    "Explanation: s is an empty string \"\" after removing non-alphanumeric characters.\n",
    "Since an empty string reads the same forward and backward, it is a palindrome."
   ]
  },
  {
   "cell_type": "code",
   "execution_count": 14,
   "id": "eb3f3a25-f295-4541-b53d-94dac70c85cf",
   "metadata": {},
   "outputs": [
    {
     "name": "stdout",
     "output_type": "stream",
     "text": [
      "True\n",
      "True\n",
      "False\n"
     ]
    }
   ],
   "source": [
    "# Using Two Pointers\n",
    "# Naive string reversal s == s[::-1]\n",
    "\n",
    "def isPalindrome(s: str) -> bool:\n",
    "    if not s and len(s) < 2:\n",
    "        return True\n",
    "\n",
    "    n = len(s)\n",
    "    l, r = 0, n - 1\n",
    "    while l < r:\n",
    "        if s[l] != s[r]:\n",
    "            return False\n",
    "        l += 1\n",
    "        r -= 1\n",
    "    return True\n",
    "\n",
    "print(isPalindrome(\"malayalam\"))\n",
    "print(isPalindrome(\"madam\"))\n",
    "print(isPalindrome(\"hello\"))"
   ]
  },
  {
   "cell_type": "markdown",
   "id": "89012d5f-ea0a-493e-8dbe-5f0b3e571d43",
   "metadata": {},
   "source": [
    "---"
   ]
  },
  {
   "cell_type": "markdown",
   "id": "8fa3b3f8-3527-47fc-b2f5-96423f885896",
   "metadata": {},
   "source": [
    "### 11. Container With Most Water\n",
    "You are given an integer array height of length n. There are n vertical lines drawn such that the two endpoints of the ith line are (i, 0) and (i, height[i]).\n",
    "\n",
    "Find two lines that together with the x-axis form a container, such that the container contains the most water.\n",
    "\n",
    "Return the maximum amount of water a container can store.\n",
    "\n",
    "Notice that you may not slant the container.\n",
    "\n",
    " \n",
    "Example 1:\n",
    "\n",
    "Input: height = [1,8,6,2,5,4,8,3,7]\n",
    "Output: 49\n",
    "Explanation: The above vertical lines are represented by array [1,8,6,2,5,4,8,3,7]. In this case, the max area of water (blue section) the container can contain is 49.\n",
    "Example 2:\n",
    "\n",
    "Input: height = [1,1]\n",
    "Output: 1"
   ]
  },
  {
   "cell_type": "code",
   "execution_count": 28,
   "id": "810ddd93-4201-48b5-b81c-89ed7c96f9d5",
   "metadata": {},
   "outputs": [
    {
     "name": "stdout",
     "output_type": "stream",
     "text": [
      "49\n",
      "1\n"
     ]
    }
   ],
   "source": [
    "from typing import List\n",
    "def maxArea(height: List[int]) -> int:\n",
    "    if len(height) < 2:\n",
    "        return 0\n",
    "        \n",
    "    l, r = 0, len(height) - 1\n",
    "    max_area = 0\n",
    "    \n",
    "    while l < r:\n",
    "        area = min(height[l], height[r]) * (r - l) # here we are calculating the space between them and not the bar's count\n",
    "        max_area = max(max_area, area)\n",
    "        \n",
    "        if height[l] < height[r]:\n",
    "            l += 1\n",
    "        else:\n",
    "            r -= 1\n",
    "            \n",
    "    return max_area\n",
    "\n",
    "print(maxArea([1,8,6,2,5,4,8,3,7]))\n",
    "print(maxArea([1,1]))"
   ]
  },
  {
   "cell_type": "markdown",
   "id": "a0fef10e-ff7c-49ba-b365-16eea69f97c0",
   "metadata": {},
   "source": [
    "---"
   ]
  },
  {
   "cell_type": "markdown",
   "id": "e43c8776-b5a7-4546-8f63-981eab403f17",
   "metadata": {},
   "source": [
    "### 42. Trapping Rain Water\n",
    "Given n non-negative integers representing an elevation map where the width of each bar is 1, compute how much water it can trap after raining.\n",
    "\n",
    "Input: height = [0,1,0,2,1,0,1,3,2,1,2,1]\n",
    "Output: 6\n",
    "Explanation: The above elevation map (black section) is represented by array [0,1,0,2,1,0,1,3,2,1,2,1]. In this case, 6 units of rain water (blue section) are being trapped.\n",
    "Example 2:\n",
    "\n",
    "Input: height = [4,2,0,3,2,5]\n",
    "Output: 9"
   ]
  },
  {
   "cell_type": "code",
   "execution_count": 31,
   "id": "b6ab0725-49d6-4dc6-8993-453af61a7fcd",
   "metadata": {},
   "outputs": [
    {
     "name": "stdout",
     "output_type": "stream",
     "text": [
      "6\n",
      "9\n"
     ]
    }
   ],
   "source": [
    "# Using Single Pass\n",
    "# Calculate the Left Max Height and Right Max Height, so we can decrease the current index Height to the trapped water\n",
    "# https://www.youtube.com/watch?v=588iXKwb7Zs&t=140s\n",
    "def trap(height: List[int]) -> int:\n",
    "    l, r = 0, len(height) - 1\n",
    "    l_max, r_max = height[l], height[r]\n",
    "    trapped_water = 0\n",
    "\n",
    "    while l < r:\n",
    "        if l_max < r_max: # if left height is smaller than right\n",
    "            trapped_water += l_max - height[l]\n",
    "            l += 1\n",
    "            l_max = max(l_max, height[l]) # keep track of left max\n",
    "        else:\n",
    "            trapped_water += r_max - height[r]\n",
    "            r -= 1\n",
    "            r_max = max(r_max, height[r])\n",
    "\n",
    "    return trapped_water\n",
    "\n",
    "print(trap([0,1,0,2,1,0,1,3,2,1,2,1]))\n",
    "print(trap([4,2,0,3,2,5]))"
   ]
  },
  {
   "cell_type": "code",
   "execution_count": null,
   "id": "b1f1944e-78d7-44c8-851e-02c0f293d6b8",
   "metadata": {},
   "outputs": [],
   "source": []
  }
 ],
 "metadata": {
  "kernelspec": {
   "display_name": "Python 3 (ipykernel)",
   "language": "python",
   "name": "python3"
  },
  "language_info": {
   "codemirror_mode": {
    "name": "ipython",
    "version": 3
   },
   "file_extension": ".py",
   "mimetype": "text/x-python",
   "name": "python",
   "nbconvert_exporter": "python",
   "pygments_lexer": "ipython3",
   "version": "3.13.5"
  }
 },
 "nbformat": 4,
 "nbformat_minor": 5
}
