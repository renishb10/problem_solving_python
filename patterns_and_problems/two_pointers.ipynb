{
 "cells": [
  {
   "cell_type": "markdown",
   "id": "90fdda27-dd89-4e47-9c41-c79a9f2e67ed",
   "metadata": {},
   "source": [
    "## Two Pointers"
   ]
  },
  {
   "cell_type": "markdown",
   "id": "db5ddbf6-d6e2-4429-96cd-7be5a8e74738",
   "metadata": {},
   "source": [
    "## 167. Two Sum II - Input Array Is Sorted\n",
    "\n",
    "Given a 1-indexed array of integers numbers that is already sorted in non-decreasing order, find two numbers such that they add up to a specific target number. Let these two numbers be numbers[index1] and numbers[index2] where 1 <= index1 < index2 <= numbers.length.\n",
    "\n",
    "Return the indices of the two numbers, index1 and index2, added by one as an integer array [index1, index2] of length 2.\n",
    "\n",
    "The tests are generated such that there is exactly one solution. You may not use the same element twice.\n",
    "\n",
    "Your solution must use only constant extra space.\n",
    "\n",
    "\n",
    "Example 1:\n",
    "\n",
    "Input: numbers = [2,7,11,15], target = 9\n",
    "Output: [1,2]\n",
    "Explanation: The sum of 2 and 7 is 9. Therefore, index1 = 1, index2 = 2. We return [1, 2].\n",
    "Example 2:\n",
    "\n",
    "Input: numbers = [2,3,4], target = 6\n",
    "Output: [1,3]\n",
    "Explanation: The sum of 2 and 4 is 6. Therefore index1 = 1, index2 = 3. We return [1, 3].\n",
    "Example 3:\n",
    "\n",
    "Input: numbers = [-1,0], target = -1\n",
    "Output: [1,2]\n",
    "Explanation: The sum of -1 and 0 is -1. Therefore index1 = 1, index2 = 2. We return [1, 2]."
   ]
  },
  {
   "cell_type": "code",
   "execution_count": 7,
   "id": "aea12df3-30e2-4cb6-85d6-8e9fcffbb7a5",
   "metadata": {},
   "outputs": [
    {
     "name": "stdout",
     "output_type": "stream",
     "text": [
      "[1, 2]\n",
      "[1, 3]\n",
      "[1, 2]\n"
     ]
    }
   ],
   "source": [
    "from typing import List\n",
    "\n",
    "def twoSum2(nums: List[int], target: int) -> List[int]:\n",
    "    l, r = 0, len(nums) - 1\n",
    "\n",
    "    while l < r:\n",
    "        total = nums[l] + nums[r]\n",
    "        if total == target:\n",
    "            return [l + 1, r + 1]\n",
    "        elif total < target:\n",
    "            l += 1\n",
    "        else:\n",
    "            r -= 1\n",
    "\n",
    "print(twoSum2([2,7,11,15], 9))\n",
    "print(twoSum2([2,3,4], 6))\n",
    "print(twoSum2([-1,0], -1))"
   ]
  },
  {
   "cell_type": "markdown",
   "id": "78a025d4-0f0b-4b8b-a5f6-bdc83ece9c4c",
   "metadata": {},
   "source": [
    "---"
   ]
  },
  {
   "cell_type": "markdown",
   "id": "d5aa4962-5768-4c6f-a264-fa09e18b6685",
   "metadata": {},
   "source": [
    "## 15. 3Sum\n",
    "Given an integer array nums, return all the triplets [nums[i], nums[j], nums[k]] such that i != j, i != k, and j != k, and nums[i] + nums[j] + nums[k] == 0.\n",
    "\n",
    "Notice that the solution set must not contain duplicate triplets.\n",
    "\n",
    " \n",
    "\n",
    "Example 1:\n",
    "\n",
    "Input: nums = [-1,0,1,2,-1,-4]\n",
    "Output: [[-1,-1,2],[-1,0,1]]\n",
    "Explanation: \n",
    "nums[0] + nums[1] + nums[2] = (-1) + 0 + 1 = 0.\n",
    "nums[1] + nums[2] + nums[4] = 0 + 1 + (-1) = 0.\n",
    "nums[0] + nums[3] + nums[4] = (-1) + 2 + (-1) = 0.\n",
    "The distinct triplets are [-1,0,1] and [-1,-1,2].\n",
    "Notice that the order of the output and the order of the triplets does not matter.\n",
    "Example 2:\n",
    "\n",
    "Input: nums = [0,1,1]\n",
    "Output: []\n",
    "Explanation: The only possible triplet does not sum up to 0."
   ]
  },
  {
   "cell_type": "code",
   "execution_count": 11,
   "id": "9741bcdf-a417-4a6d-9a87-30689f4f50c7",
   "metadata": {},
   "outputs": [
    {
     "name": "stdout",
     "output_type": "stream",
     "text": [
      "[[-1, -1, 2], [-1, 0, 1]]\n",
      "[]\n"
     ]
    }
   ],
   "source": [
    "from typing import List\n",
    "\n",
    "def threeSum(nums: List[int]) -> List[List[int]]:\n",
    "    \"\"\"\n",
    "    Given an integer array nums, return all unique triplets [nums[i], nums[j], nums[k]]\n",
    "    such that i != j != k and nums[i] + nums[j] + nums[k] == 0.\n",
    "    \"\"\"\n",
    "    nums.sort()  # Sort first to apply two pointers\n",
    "    res = []\n",
    "    n = len(nums)\n",
    "\n",
    "    for i in range(n):\n",
    "        # Skip duplicate first elements\n",
    "        if i > 0 and nums[i] == nums[i - 1]:\n",
    "            continue\n",
    "        \n",
    "        l, r = i + 1, n - 1\n",
    "        while l < r:\n",
    "            total = nums[i] + nums[l] + nums[r]\n",
    "            if total == 0:\n",
    "                res.append([nums[i], nums[l], nums[r]])\n",
    "                \n",
    "                # Skip duplicate second elements\n",
    "                while l < r and nums[l] == nums[l + 1]:\n",
    "                    l += 1\n",
    "                # Skip duplicate third elements\n",
    "                while l < r and nums[r] == nums[r - 1]:\n",
    "                    r -= 1\n",
    "                \n",
    "                l += 1\n",
    "                r -= 1\n",
    "            elif total < 0:\n",
    "                l += 1\n",
    "            else:\n",
    "                r -= 1\n",
    "\n",
    "    return res\n",
    "\n",
    "\n",
    "print(threeSum([-1,0,1,2,-1,-4]))\n",
    "print(threeSum([0,1,1]))"
   ]
  },
  {
   "cell_type": "code",
   "execution_count": null,
   "id": "e079a0ca-d8b8-4848-820e-902377c35875",
   "metadata": {},
   "outputs": [],
   "source": []
  }
 ],
 "metadata": {
  "kernelspec": {
   "display_name": "Python 3 (ipykernel)",
   "language": "python",
   "name": "python3"
  },
  "language_info": {
   "codemirror_mode": {
    "name": "ipython",
    "version": 3
   },
   "file_extension": ".py",
   "mimetype": "text/x-python",
   "name": "python",
   "nbconvert_exporter": "python",
   "pygments_lexer": "ipython3",
   "version": "3.13.5"
  }
 },
 "nbformat": 4,
 "nbformat_minor": 5
}
