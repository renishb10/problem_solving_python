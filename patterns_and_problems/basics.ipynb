{
 "cells": [
  {
   "cell_type": "markdown",
   "id": "7e6e2e96-3947-4d55-bf91-0a17d852428c",
   "metadata": {},
   "source": [
    "# Basics"
   ]
  },
  {
   "cell_type": "markdown",
   "id": "32403c38-e15a-4eb5-ba38-2aed7c897f2a",
   "metadata": {},
   "source": [
    "## Calculate length of Sub Array or Sub String\n",
    "\n",
    "### RightIndex - LeftIndex + 1\n",
    "\n",
    "Eg: [a, b, c, d, e, f], let's say left index is at b (left = 1) and right index is at e (right = 4)\n",
    "        L        R\n",
    "\n",
    "Length is = (Right - Left + 1) i.e (4 - 1 + 1) = 4"
   ]
  },
  {
   "cell_type": "markdown",
   "id": "954b1ff6-7786-4a4e-b5a5-eaad211c8643",
   "metadata": {},
   "source": [
    "---"
   ]
  },
  {
   "cell_type": "markdown",
   "id": "d757d63c-50a1-41d9-9dcb-97a1d89be8ac",
   "metadata": {},
   "source": [
    "## Generate all the Substrings\n",
    "\n",
    "### Two Loops, make sure the inner loop to only run while j + i < len(s)"
   ]
  },
  {
   "cell_type": "code",
   "execution_count": 4,
   "id": "3418ff43-91a0-48d6-9c01-8a797feab364",
   "metadata": {},
   "outputs": [
    {
     "name": "stdout",
     "output_type": "stream",
     "text": [
      "['A', 'AB', 'ABC', 'B', 'BC', 'C']\n"
     ]
    }
   ],
   "source": [
    "def generateSubStr(s: str) -> str:\n",
    "    substrings = []\n",
    "    for i in range(len(s)):\n",
    "        res = \"\"\n",
    "        for j in range(len(s) - i): # Decrease the j, so that it won't go out of the index\n",
    "            res += s[j + i]\n",
    "            substrings.append(res)\n",
    "    return substrings\n",
    "\n",
    "print(generateSubStr(\"ABC\"))"
   ]
  },
  {
   "cell_type": "markdown",
   "id": "b14c6e5f-ff35-4b9c-87de-b92977d92225",
   "metadata": {},
   "source": [
    "---"
   ]
  },
  {
   "cell_type": "code",
   "execution_count": null,
   "id": "997aaad1-cbd0-4753-ab6a-59019f1d5b93",
   "metadata": {},
   "outputs": [],
   "source": []
  }
 ],
 "metadata": {
  "kernelspec": {
   "display_name": "Python 3 (ipykernel)",
   "language": "python",
   "name": "python3"
  },
  "language_info": {
   "codemirror_mode": {
    "name": "ipython",
    "version": 3
   },
   "file_extension": ".py",
   "mimetype": "text/x-python",
   "name": "python",
   "nbconvert_exporter": "python",
   "pygments_lexer": "ipython3",
   "version": "3.13.5"
  }
 },
 "nbformat": 4,
 "nbformat_minor": 5
}
