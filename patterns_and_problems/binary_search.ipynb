{
 "cells": [
  {
   "cell_type": "markdown",
   "id": "1f748148-6a6d-441d-82a0-68dfc5a294b2",
   "metadata": {},
   "source": [
    "## Binary Search Pattern"
   ]
  },
  {
   "cell_type": "markdown",
   "id": "cd022fa6-f114-4cb8-b476-6550bd6cba42",
   "metadata": {},
   "source": [
    "### 33. Search in Rotated Sorted Array\n",
    "There is an integer array nums sorted in ascending order (with distinct values).\n",
    "\n",
    "Prior to being passed to your function, nums is possibly left rotated at an unknown index k (1 <= k < nums.length) such that the resulting array is [nums[k], nums[k+1], ..., nums[n-1], nums[0], nums[1], ..., nums[k-1]] (0-indexed). For example, [0,1,2,4,5,6,7] might be left rotated by 3 indices and become [4,5,6,7,0,1,2].\n",
    "\n",
    "Given the array nums after the possible rotation and an integer target, return the index of target if it is in nums, or -1 if it is not in nums.\n",
    "\n",
    "You must write an algorithm with O(log n) runtime complexity.\n",
    " \n",
    "\n",
    "Example 1:\n",
    "\n",
    "Input: nums = [4,5,6,7,0,1,2], target = 0\n",
    "Output: 4\n",
    "Example 2:\n",
    "\n",
    "Input: nums = [4,5,6,7,0,1,2], target = 3\n",
    "Output: -1\n",
    "Example 3:\n",
    "\n",
    "Input: nums = [1], target = 0\n",
    "Output: -1"
   ]
  },
  {
   "cell_type": "code",
   "execution_count": 3,
   "id": "ee9c8312-8bbd-46fc-9744-9e305bc98077",
   "metadata": {},
   "outputs": [
    {
     "name": "stdout",
     "output_type": "stream",
     "text": [
      "4\n",
      "-1\n",
      "-1\n"
     ]
    }
   ],
   "source": [
    "from typing import List\n",
    "\n",
    "def searchRotateSortArray(nums: List[int], target: int) -> int:\n",
    "    l, r = 0, len(nums) - 1\n",
    "\n",
    "    while l < r:\n",
    "        m = (l + r) // 2 # Floor Division\n",
    "\n",
    "        if nums[m] == target:\n",
    "            return m\n",
    "        if nums[l] <= nums[m]: # if left half is sorted?\n",
    "            if nums[l] <= target <= nums[m]: # is target within that bound? then move \"r\" else move \"l\"\n",
    "                r = m -1\n",
    "            else:\n",
    "                l = m + 1\n",
    "        else:\n",
    "            if nums[m] <= target <= nums[r]:\n",
    "                l = m + 1\n",
    "            else:\n",
    "                r = m - 1 \n",
    "\n",
    "    return -1 if nums[r] != target else r # both \"l\" and \"r\" points to the same index, so check if thats the target\n",
    "\n",
    "print(searchRotateSortArray([4,5,6,7,0,1,2], 0))\n",
    "print(searchRotateSortArray([4,5,6,7,0,1,2], -1))\n",
    "print(searchRotateSortArray([1], 0))"
   ]
  },
  {
   "cell_type": "code",
   "execution_count": null,
   "id": "724340a8-6320-440f-ba38-08298d24e447",
   "metadata": {},
   "outputs": [],
   "source": []
  }
 ],
 "metadata": {
  "kernelspec": {
   "display_name": "Python 3 (ipykernel)",
   "language": "python",
   "name": "python3"
  },
  "language_info": {
   "codemirror_mode": {
    "name": "ipython",
    "version": 3
   },
   "file_extension": ".py",
   "mimetype": "text/x-python",
   "name": "python",
   "nbconvert_exporter": "python",
   "pygments_lexer": "ipython3",
   "version": "3.13.5"
  }
 },
 "nbformat": 4,
 "nbformat_minor": 5
}
