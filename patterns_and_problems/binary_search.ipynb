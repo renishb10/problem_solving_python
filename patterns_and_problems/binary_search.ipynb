{
 "cells": [
  {
   "cell_type": "markdown",
   "id": "1f748148-6a6d-441d-82a0-68dfc5a294b2",
   "metadata": {},
   "source": [
    "## Binary Search Pattern"
   ]
  },
  {
   "cell_type": "markdown",
   "id": "cd022fa6-f114-4cb8-b476-6550bd6cba42",
   "metadata": {},
   "source": [
    "### 33. Search in Rotated Sorted Array\n",
    "There is an integer array nums sorted in ascending order (with distinct values).\n",
    "\n",
    "Prior to being passed to your function, nums is possibly left rotated at an unknown index k (1 <= k < nums.length) such that the resulting array is [nums[k], nums[k+1], ..., nums[n-1], nums[0], nums[1], ..., nums[k-1]] (0-indexed). For example, [0,1,2,4,5,6,7] might be left rotated by 3 indices and become [4,5,6,7,0,1,2].\n",
    "\n",
    "Given the array nums after the possible rotation and an integer target, return the index of target if it is in nums, or -1 if it is not in nums.\n",
    "\n",
    "You must write an algorithm with O(log n) runtime complexity.\n",
    " \n",
    "\n",
    "Example 1:\n",
    "\n",
    "Input: nums = [4,5,6,7,0,1,2], target = 0\n",
    "Output: 4\n",
    "Example 2:\n",
    "\n",
    "Input: nums = [4,5,6,7,0,1,2], target = 3\n",
    "Output: -1\n",
    "Example 3:\n",
    "\n",
    "Input: nums = [1], target = 0\n",
    "Output: -1"
   ]
  },
  {
   "cell_type": "code",
   "execution_count": 3,
   "id": "ee9c8312-8bbd-46fc-9744-9e305bc98077",
   "metadata": {},
   "outputs": [
    {
     "name": "stdout",
     "output_type": "stream",
     "text": [
      "4\n",
      "-1\n",
      "-1\n"
     ]
    }
   ],
   "source": [
    "# https://www.youtube.com/watch?v=HZuMYqey9Ew\n",
    "from typing import List\n",
    "\n",
    "def searchRotateSortArray(nums: List[int], target: int) -> int:\n",
    "    l, r = 0, len(nums) - 1\n",
    "\n",
    "    while l < r:\n",
    "        m = (l + r) // 2 # Floor Division\n",
    "\n",
    "        if nums[m] == target:\n",
    "            return m\n",
    "        if nums[l] <= nums[m]: # if left half is sorted?\n",
    "            if nums[l] <= target <= nums[m]: # is target within that bound? then move \"r\" else move \"l\"\n",
    "                r = m -1\n",
    "            else:\n",
    "                l = m + 1\n",
    "        else:\n",
    "            if nums[m] <= target <= nums[r]:\n",
    "                l = m + 1\n",
    "            else:\n",
    "                r = m - 1 \n",
    "\n",
    "    return -1 if nums[r] != target else r # both \"l\" and \"r\" points to the same index, so check if thats the target\n",
    "\n",
    "print(searchRotateSortArray([4,5,6,7,0,1,2], 0))\n",
    "print(searchRotateSortArray([4,5,6,7,0,1,2], -1))\n",
    "print(searchRotateSortArray([1], 0))"
   ]
  },
  {
   "cell_type": "markdown",
   "id": "de64c07e-8317-4c45-8863-ff423fc1e25d",
   "metadata": {},
   "source": [
    "---"
   ]
  },
  {
   "cell_type": "markdown",
   "id": "31707c05-25a1-4130-b77b-bcddb7da8190",
   "metadata": {},
   "source": [
    "### 153. Find Minimum in Rotated Sorted Array\n",
    "Suppose an array of length n sorted in ascending order is rotated between 1 and n times. For example, the array nums = [0,1,2,4,5,6,7] might become:\n",
    "\n",
    "[4,5,6,7,0,1,2] if it was rotated 4 times.\n",
    "[0,1,2,4,5,6,7] if it was rotated 7 times.\n",
    "Notice that rotating an array [a[0], a[1], a[2], ..., a[n-1]] 1 time results in the array [a[n-1], a[0], a[1], a[2], ..., a[n-2]].\n",
    "\n",
    "Given the sorted rotated array nums of unique elements, return the minimum element of this array.\n",
    "\n",
    "You must write an algorithm that runs in O(log n) time.\n",
    "\n",
    " \n",
    "\n",
    "Example 1:\n",
    "\n",
    "Input: nums = [3,4,5,1,2]\n",
    "Output: 1\n",
    "Explanation: The original array was [1,2,3,4,5] rotated 3 times.\n",
    "Example 2:\n",
    "\n",
    "Input: nums = [4,5,6,7,0,1,2]\n",
    "Output: 0\n",
    "Explanation: The original array was [0,1,2,4,5,6,7] and it was rotated 4 times.\n",
    "Example 3:\n",
    "\n",
    "Input: nums = [11,13,15,17]\n",
    "Output: 11\n",
    "Explanation: The original array was [11,13,15,17] and it was rotated 4 times. "
   ]
  },
  {
   "cell_type": "code",
   "execution_count": 5,
   "id": "df5644f1-2c3d-4171-ad6e-47e13f30aaeb",
   "metadata": {},
   "outputs": [
    {
     "name": "stdout",
     "output_type": "stream",
     "text": [
      "1\n",
      "0\n",
      "11\n"
     ]
    }
   ],
   "source": [
    "# https://www.youtube.com/watch?v=7DLm3TgywDs\n",
    "# Hints:\n",
    "## In a rotated sorted array, the minimum element is the only one where the previous element is greater than it.\n",
    "## \n",
    "from typing import List\n",
    "\n",
    "def findMinRotateSortArray(nums: List[int]) -> int:\n",
    "    l, r = 0, len(nums) - 1\n",
    "\n",
    "    while l < r:\n",
    "        m = (l + r) // 2\n",
    "        if nums[m] > nums[r]:\n",
    "            l = m + 1\n",
    "        else:\n",
    "            r = m # we are not checking m, so include m as the right boundary\n",
    "\n",
    "    return nums[l] # both l and r are the same\n",
    "\n",
    "print(findMinRotateSortArray([3,4,5,1,2]))\n",
    "print(findMinRotateSortArray([4,5,6,7,0,1,2]))\n",
    "print(findMinRotateSortArray([11,13,15,17]))"
   ]
  },
  {
   "cell_type": "code",
   "execution_count": 7,
   "id": "05456063-2aa9-4fbc-92ec-55d2ec1b827b",
   "metadata": {},
   "outputs": [
    {
     "name": "stdout",
     "output_type": "stream",
     "text": [
      "1\n",
      "0\n",
      "11\n"
     ]
    }
   ],
   "source": [
    "# Recursively\n",
    "from typing import List\n",
    "\n",
    "def findMinRotateSortArrayRec(l, r, nums):\n",
    "    # Base case: only one element left\n",
    "    if l == r:\n",
    "        return nums[l]\n",
    "\n",
    "    m = (l + r) // 2\n",
    "\n",
    "    if nums[m] > nums[r]:\n",
    "        return findMinRotateSortArrayRec(m + 1, r, nums)\n",
    "    else:\n",
    "        return findMinRotateSortArrayRec(l, m, nums)\n",
    "        \n",
    "\n",
    "def findMinRotateSortArray2(nums: List[int]) -> int:\n",
    "    return findMinRotateSortArrayRec(0, len(nums) - 1, nums)\n",
    "\n",
    "print(findMinRotateSortArray2([3,4,5,1,2]))\n",
    "print(findMinRotateSortArray2([4,5,6,7,0,1,2]))\n",
    "print(findMinRotateSortArray2([11,13,15,17]))"
   ]
  },
  {
   "cell_type": "code",
   "execution_count": null,
   "id": "cda96847-f0f5-4cd0-b250-d2375f53eca3",
   "metadata": {},
   "outputs": [],
   "source": []
  }
 ],
 "metadata": {
  "kernelspec": {
   "display_name": "Python 3 (ipykernel)",
   "language": "python",
   "name": "python3"
  },
  "language_info": {
   "codemirror_mode": {
    "name": "ipython",
    "version": 3
   },
   "file_extension": ".py",
   "mimetype": "text/x-python",
   "name": "python",
   "nbconvert_exporter": "python",
   "pygments_lexer": "ipython3",
   "version": "3.13.5"
  }
 },
 "nbformat": 4,
 "nbformat_minor": 5
}
